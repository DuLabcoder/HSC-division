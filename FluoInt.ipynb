{
 "cells": [
  {
   "cell_type": "code",
   "execution_count": 1,
   "id": "b677bfc0",
   "metadata": {},
   "outputs": [],
   "source": [
    "import numpy as np\n",
    "import os\n",
    "import pandas as pd\n",
    "import matplotlib.pyplot as plt\n",
    "import cv2\n",
    "import tifffile\n",
    "from tqdm import tqdm\n",
    "import glob\n",
    "from pathlib import Path"
   ]
  },
  {
   "cell_type": "code",
   "execution_count": 3,
   "id": "5208a3fc",
   "metadata": {},
   "outputs": [
    {
     "data": {
      "text/plain": [
       "(3, 100, 100)"
      ]
     },
     "execution_count": 3,
     "metadata": {},
     "output_type": "execute_result"
    }
   ],
   "source": [
    "image = tifffile.imread(\".\\\\masks\\\\2D-1\\\\20230924 1141_xy29-2.tif\")\n",
    "image.shape"
   ]
  },
  {
   "cell_type": "code",
   "execution_count": 4,
   "id": "5b73c85c",
   "metadata": {},
   "outputs": [
    {
     "data": {
      "text/plain": [
       "<matplotlib.image.AxesImage at 0x2239b353730>"
      ]
     },
     "execution_count": 4,
     "metadata": {},
     "output_type": "execute_result"
    },
    {
     "data": {
      "image/png": "[encoded data removed]",
      "text/plain": [
       "<Figure size 640x480 with 1 Axes>"
      ]
     },
     "metadata": {},
     "output_type": "display_data"
    }
   ],
   "source": [
    "image_c1 = np.uint8(np.where(image[1]>0,1,0))\n",
    "image_c1_3= cv2.cvtColor(image_c1 ,cv2.COLOR_GRAY2RGB)\n",
    "image_c2_3= cv2.cvtColor(image[2] ,cv2.COLOR_GRAY2RGB)\n",
    "image_c0 = image[2]*image_c1\n",
    "image_c0_3 = cv2.cvtColor(image_c0 ,cv2.COLOR_GRAY2RGB)\n",
    "plt.imshow(image_c0_3)"
   ]
  },
  {
   "cell_type": "code",
   "execution_count": 5,
   "id": "f91b80c7",
   "metadata": {
    "scrolled": false
   },
   "outputs": [
    {
     "data": {
      "text/plain": [
       "<matplotlib.image.AxesImage at 0x2239d531a20>"
      ]
     },
     "execution_count": 5,
     "metadata": {},
     "output_type": "execute_result"
    },
    {
     "data": {
      "image/png": "[encoded data removed]",
      "text/plain": [
       "<Figure size 640x480 with 1 Axes>"
      ]
     },
     "metadata": {},
     "output_type": "display_data"
    }
   ],
   "source": [
    "temp = np.uint8(cv2.cvtColor(image_c0,cv2.COLOR_GRAY2BGR))\n",
    "contours, hierarchy = cv2.findContours(np.uint8(image[1]), cv2.RETR_EXTERNAL, cv2.CHAIN_APPROX_SIMPLE)\n",
    "area_list = []\n",
    "idx = 0\n",
    "data = pd.DataFrame(columns=[\"id\",\"total_intensity\"])\n",
    "for i in range(len(contours)):\n",
    "    if cv2.contourArea(contours[i]) > 50:\n",
    "        idx += 1\n",
    "        copy = np.zeros_like(temp)\n",
    "        cv2.drawContours(copy,[contours[i]],-1,(1,1,1),-1) #填充轮廓\n",
    "        mask = copy*temp\n",
    "        cv2.drawContours(mask,[contours[i]],-1,(255,255,255),1)\n",
    "        total_intensity = mask.sum()\n",
    "        area_list.append(mask)\n",
    "        data.loc[len(data.index)] = (idx, total_intensity)\n",
    "\n",
    "plt.imshow(np.uint8(sum(area_list)))"
   ]
  },
  {
   "cell_type": "code",
   "execution_count": 6,
   "id": "f25acd4f",
   "metadata": {},
   "outputs": [
    {
     "data": {
      "text/html": [
       "<div>\n",
       "<style scoped>\n",
       "    .dataframe tbody tr th:only-of-type {\n",
       "        vertical-align: middle;\n",
       "    }\n",
       "\n",
       "    .dataframe tbody tr th {\n",
       "        vertical-align: top;\n",
       "    }\n",
       "\n",
       "    .dataframe thead th {\n",
       "        text-align: right;\n",
       "    }\n",
       "</style>\n",
       "<table border=\"1\" class=\"dataframe\">\n",
       "  <thead>\n",
       "    <tr style=\"text-align: right;\">\n",
       "      <th></th>\n",
       "      <th>id</th>\n",
       "      <th>total_intensity</th>\n",
       "    </tr>\n",
       "  </thead>\n",
       "  <tbody>\n",
       "    <tr>\n",
       "      <th>0</th>\n",
       "      <td>1</td>\n",
       "      <td>267144</td>\n",
       "    </tr>\n",
       "    <tr>\n",
       "      <th>1</th>\n",
       "      <td>2</td>\n",
       "      <td>281454</td>\n",
       "    </tr>\n",
       "  </tbody>\n",
       "</table>\n",
       "</div>"
      ],
      "text/plain": [
       "   id  total_intensity\n",
       "0   1           267144\n",
       "1   2           281454"
      ]
     },
     "execution_count": 6,
     "metadata": {},
     "output_type": "execute_result"
    }
   ],
   "source": [
    "data"
   ]
  },
  {
   "cell_type": "markdown",
   "id": "3c1c5628",
   "metadata": {},
   "source": [
    "# Batch process"
   ]
  },
  {
   "cell_type": "code",
   "execution_count": 7,
   "id": "d4b88f54",
   "metadata": {},
   "outputs": [],
   "source": [
    "def pol_process(category, filename, image, dataframe):\n",
    "    # Process different channels.\n",
    "\n",
    "    # Create a binary mask from channel 1 for further operations.\n",
    "    image_cmask = np.uint8(np.where(image[1] > 0, 1, 0))  # Binary mask for channel 1.\n",
    "    image_cmask_3 = cv2.cvtColor(image_cmask, cv2.COLOR_GRAY2RGB)  # Convert binary mask to 3-channel RGB.\n",
    "\n",
    "    # Extract red fluorescence channel and prepare for processing.\n",
    "    image_cred = image[2]  # Red fluorescence channel.\n",
    "    image_cred_3 = cv2.cvtColor(image[2], cv2.COLOR_GRAY2RGB)  # Convert red channel to 3-channel RGB.\n",
    "\n",
    "    # Mask the red fluorescence channel with the binary mask.\n",
    "    image_cred0 = image_cmask * image_cred  # Apply binary mask to red channel.\n",
    "    image_cred0_3 = cv2.cvtColor(image_cred0, cv2.COLOR_GRAY2RGB)  # Convert masked red channel to 3-channel RGB.\n",
    "\n",
    "    # Prepare the masked red channel for contour processing.\n",
    "    temp_red = np.uint8(cv2.cvtColor(image_cred0, cv2.COLOR_GRAY2BGR))\n",
    "\n",
    "    # Find external contours using the binary mask.\n",
    "    contours, hierarchy = cv2.findContours(image_cmask, cv2.RETR_EXTERNAL, cv2.CHAIN_APPROX_SIMPLE)\n",
    "\n",
    "    # Initialize list to store processed red area masks and index counter.\n",
    "    area_list_red = []\n",
    "    idx = 0\n",
    "\n",
    "    for i in range(len(contours)):\n",
    "        # Process contours that have an area greater than 50.\n",
    "        if cv2.contourArea(contours[i]) > 50:\n",
    "            idx += 1  # Increment the index for each valid contour.\n",
    "\n",
    "            # Create a blank mask for the current contour and fill it.\n",
    "            copy_red = np.zeros_like(temp_red)\n",
    "            cv2.drawContours(copy_red, [contours[i]], -1, (1, 1, 1), -1)  # Fill the contour.\n",
    "\n",
    "            # Mask the red fluorescence for the current contour.\n",
    "            mask_red = copy_red * temp_red\n",
    "\n",
    "            # Draw the contour outline on the mask.\n",
    "            cv2.drawContours(mask_red, [contours[i]], -1, (255, 255, 255), 1)\n",
    "\n",
    "            # Calculate the total intensity of the red fluorescence within the contour.\n",
    "            total_intensity = mask_red.sum()\n",
    "\n",
    "            # Add the processed mask to the red area list.\n",
    "            area_list_red.append(mask_red)\n",
    "\n",
    "            # Append the metrics to the dataframe.\n",
    "            dataframe.loc[len(dataframe.index)] = (category, filename, idx, total_intensity)\n",
    "\n",
    "    return dataframe, total_intensity, area_list_red"
   ]
  },
  {
   "cell_type": "code",
   "execution_count": 10,
   "id": "e2099991",
   "metadata": {},
   "outputs": [
    {
     "name": "stderr",
     "output_type": "stream",
     "text": [
      "100%|██████████████████████████████████████████████████████████████████████████████████| 16/16 [00:00<00:00, 23.37it/s]\n"
     ]
    }
   ],
   "source": [
    "dataframe = pd.DataFrame(columns=[\"category\", \"filename\", \"idx\", \"total_intensity\"])\n",
    "\n",
    "# Get a list of all .tif files in the ./masks/ directory and its subdirectories.\n",
    "filepath_list = glob.glob(\"./masks/*/*.tif\")\n",
    "\n",
    "# Extract filenames and directory names from the file paths.\n",
    "filename_list = [str(Path(i).parts[-1]) for i in filepath_list]\n",
    "dir_list = [str(Path(i).parts[-2]) for i in filepath_list]\n",
    "\n",
    "# Define a new directory to store processed results.\n",
    "new_dir = \"./process/\"\n",
    "!mkdir \"./process/2D-1\"\n",
    "\n",
    "# Loop through each file in the list, displaying a progress bar with tqdm.\n",
    "for i in tqdm(range(len(filename_list))):\n",
    "    # Read the multi-channel image file.\n",
    "    image = tifffile.imread(filepath_list[i])\n",
    "\n",
    "    # Process the image and update the dataframe with the results.\n",
    "    dataframe, total_intensity, area_list_red = pol_process(dir_list[i], filename_list[i], image, dataframe)\n",
    "\n",
    "    # If there are valid processed areas, save the results.\n",
    "    if len(area_list_red) != 0:\n",
    "        # Combine the red masks into a single-channel image.\n",
    "        red_image = cv2.cvtColor(sum(area_list_red), cv2.COLOR_RGB2GRAY)\n",
    "\n",
    "        # Write the original binary mask and the processed red channel to the output directory.\n",
    "        tifffile.imwrite(\"{}/{}/{}\".format(new_dir, dir_list[i], filename_list[i]), np.uint8(image[0]), append=True)\n",
    "        tifffile.imwrite(\"{}/{}/{}\".format(new_dir, dir_list[i], filename_list[i]), np.uint8(red_image), append=True)\n",
    "\n",
    "# Save the dataframe containing all processed information as a CSV file.\n",
    "dataframe.to_csv(new_dir + \"data.csv\")"
   ]
  },
  {
   "cell_type": "code",
   "execution_count": 11,
   "id": "12b3d7e0",
   "metadata": {},
   "outputs": [
    {
     "data": {
      "text/plain": [
       "<matplotlib.image.AxesImage at 0x2239d5914b0>"
      ]
     },
     "execution_count": 11,
     "metadata": {},
     "output_type": "execute_result"
    },
    {
     "data": {
      "image/png": "[encoded data removed]",
      "text/plain": [
       "<Figure size 640x480 with 1 Axes>"
      ]
     },
     "metadata": {},
     "output_type": "display_data"
    }
   ],
   "source": [
    "plt.imshow(sum(area_list_red))"
   ]
  }
 ],
 "metadata": {
  "kernelspec": {
   "display_name": "Python 3 (ipykernel)",
   "language": "python",
   "name": "python3"
  },
  "language_info": {
   "codemirror_mode": {
    "name": "ipython",
    "version": 3
   },
   "file_extension": ".py",
   "mimetype": "text/x-python",
   "name": "python",
   "nbconvert_exporter": "python",
   "pygments_lexer": "ipython3",
   "version": "3.10.8"
  }
 },
 "nbformat": 4,
 "nbformat_minor": 5
}
